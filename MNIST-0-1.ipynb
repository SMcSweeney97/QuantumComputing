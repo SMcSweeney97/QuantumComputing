{
 "cells": [
  {
   "cell_type": "code",
   "execution_count": null,
   "metadata": {},
   "outputs": [],
   "source": []
  },
  {
   "cell_type": "code",
   "execution_count": 1,
   "metadata": {},
   "outputs": [],
   "source": [
    "import pennylane as qml\n",
    "import tensorflow as tf\n",
    "\n",
    "import sklearn.datasets\n",
    "from sklearn.datasets import fetch_openml\n",
    "\n",
    "import numpy as np\n",
    "\n",
    "from matplotlib import pyplot as plt\n",
    "\n",
    "tf.keras.backend.set_floatx('float64')"
   ]
  },
  {
   "cell_type": "markdown",
   "metadata": {},
   "source": [
    "## Load and reduce the data\n",
    "\n",
    "Load the MNIST data and check number of training and test examples"
   ]
  },
  {
   "cell_type": "code",
   "execution_count": 2,
   "metadata": {},
   "outputs": [
    {
     "name": "stdout",
     "output_type": "stream",
     "text": [
      "Number of original training examples: 60000\n",
      "Number of original test examples: 10000\n"
     ]
    }
   ],
   "source": [
    "(x_train, y_train), (x_test, y_test) = tf.keras.datasets.mnist.load_data()\n",
    "\n",
    "# Rescale the images from [0,255] to the [0.0,1.0] range.\n",
    "x_train, x_test = x_train[..., np.newaxis]/255.0, x_test[..., np.newaxis]/255.0  # add colour dimension\n",
    "\n",
    "print(\"Number of original training examples:\", len(x_train))\n",
    "print(\"Number of original test examples:\", len(x_test))"
   ]
  },
  {
   "cell_type": "markdown",
   "metadata": {},
   "source": [
    "Create a function to filter out only 0 and 1"
   ]
  },
  {
   "cell_type": "code",
   "execution_count": 3,
   "metadata": {},
   "outputs": [],
   "source": [
    "def filter_01(x, y):\n",
    "    keep = (y == 3) | (y == 6)\n",
    "    x, y = x[keep], y[keep]\n",
    "    y = y == 3\n",
    "    return x,y"
   ]
  },
  {
   "cell_type": "code",
   "execution_count": 4,
   "metadata": {},
   "outputs": [
    {
     "name": "stdout",
     "output_type": "stream",
     "text": [
      "Number of filtered training examples: 12049\n",
      "Number of filtered test examples: 1968\n"
     ]
    }
   ],
   "source": [
    "x_train, y_train = filter_01(x_train, y_train)\n",
    "x_test, y_test = filter_01(x_test, y_test)\n",
    "\n",
    "print(\"Number of filtered training examples:\", len(x_train))\n",
    "print(\"Number of filtered test examples:\", len(x_test))"
   ]
  },
  {
   "cell_type": "markdown",
   "metadata": {},
   "source": [
    "Plot the original images"
   ]
  },
  {
   "cell_type": "code",
   "execution_count": 5,
   "metadata": {},
   "outputs": [
    {
     "data": {
      "image/png": "[encoded data removed]",
      "text/plain": [
       "<Figure size 640x480 with 1 Axes>"
      ]
     },
     "metadata": {},
     "output_type": "display_data"
    }
   ],
   "source": [
    "plt.imshow(x_train[0, :, :, 0], cmap='Greys')\n",
    "ax = plt.gca()\n",
    "ax.set_xticks([])\n",
    "ax.set_yticks([])\n",
    "plt.title(\"28x28 image of a 3\", fontsize=20)\n",
    "# save to file as pdf\n",
    "plt.savefig('28x28_MNIST_3.pdf', bbox_inches='tight', pad_inches=0)\n",
    "plt.show()"
   ]
  },
  {
   "cell_type": "markdown",
   "metadata": {},
   "source": [
    "Reduce images to 9x9"
   ]
  },
  {
   "cell_type": "code",
   "execution_count": 6,
   "metadata": {},
   "outputs": [],
   "source": [
    "x_train_small = tf.image.resize(x_train, (9,9)).numpy()\n",
    "x_test_small = tf.image.resize(x_test, (9,9)).numpy()"
   ]
  },
  {
   "cell_type": "code",
   "execution_count": 7,
   "metadata": {},
   "outputs": [
    {
     "data": {
      "image/png": "[encoded data removed]",
      "text/plain": [
       "<Figure size 640x480 with 1 Axes>"
      ]
     },
     "metadata": {},
     "output_type": "display_data"
    }
   ],
   "source": [
    "plt.imshow(x_train_small[0,:,:,0], vmin=0, vmax=1, cmap='Greys')\n",
    "ax = plt.gca()\n",
    "ax.set_xticks([])\n",
    "ax.set_yticks([])\n",
    "plt.title(\"9x9 image of a 3\", fontsize=20)\n",
    "# save to file as pdf\n",
    "plt.savefig('9x9_MNIST_3.pdf', bbox_inches='tight', pad_inches=0)\n",
    "plt.show()"
   ]
  },
  {
   "cell_type": "markdown",
   "metadata": {},
   "source": [
    "Further reduce images to 9x1"
   ]
  },
  {
   "cell_type": "code",
   "execution_count": 8,
   "metadata": {},
   "outputs": [
    {
     "data": {
      "image/png": "[encoded data removed]",
      "text/plain": [
       "<Figure size 640x480 with 1 Axes>"
      ]
     },
     "metadata": {},
     "output_type": "display_data"
    }
   ],
   "source": [
    "x_train_small = x_train_small[:,3,:,:].reshape((-1,9))  # take only central slices\n",
    "x_test_small = x_test_small[:,3,:,:].reshape((-1,9))  # take only central slices\n",
    "\n",
    "plt.imshow(x_train_small[0,:].reshape((1,-1)), vmin=0, vmax=1, cmap='Greys')\n",
    "ax = plt.gca()\n",
    "ax.set_xticks([])\n",
    "ax.set_yticks([])\n",
    "plt.title(\"9x1 image of a 3\", fontsize=20)\n",
    "# save to file as pdf\n",
    "plt.savefig('9x1_MNIST_3.pdf', bbox_inches='tight', pad_inches=0)\n",
    "plt.show()\n"
   ]
  },
  {
   "cell_type": "markdown",
   "metadata": {},
   "source": [
    "## Set up the Quantum Neural Network\n",
    "\n",
    "Create quantum circuit using pennylane qnode, then conver this to a Keras layer to make a Keras model"
   ]
  },
  {
   "cell_type": "code",
   "execution_count": 9,
   "metadata": {},
   "outputs": [
    {
     "name": "stdout",
     "output_type": "stream",
     "text": [
      "1/1 [==============================] - 0s 182ms/step\n",
      "Model: \"QNN\"\n",
      "_________________________________________________________________\n",
      " Layer (type)                Output Shape              Param #   \n",
      "=================================================================\n",
      " inputs (InputLayer)         [(None, 9)]               0         \n",
      "                                                                 \n",
      " quantumLayer (KerasLayer)   (None, 1)                 51        \n",
      "                                                                 \n",
      "=================================================================\n",
      "Total params: 51\n",
      "Trainable params: 51\n",
      "Non-trainable params: 0\n",
      "_________________________________________________________________\n",
      "None\n"
     ]
    }
   ],
   "source": [
    "n_qubits = 9\n",
    "n_layers = 1\n",
    "dev = qml.device(\"default.qubit\", wires=n_qubits)\n",
    "\n",
    "@qml.qnode(dev, diff_method=\"adjoint\")\n",
    "def qnode(inputs, weights):\n",
    "\n",
    "    for ii in range(n_qubits):\n",
    "        qml.RY(np.pi * inputs[ii], wires=ii)\n",
    "\n",
    "    for jj in range(n_layers):\n",
    "        for ii in range(n_qubits-1):\n",
    "            qml.RZ(weights[jj,2*ii,0], wires=0)\n",
    "            qml.RY(weights[jj,2*ii,1], wires=0)\n",
    "            qml.RZ(weights[jj,2*ii,2], wires=0)\n",
    "\n",
    "            qml.RZ(weights[jj,2*ii+1,0], wires=ii+1)\n",
    "            qml.RY(weights[jj,2*ii+1,1], wires=ii+1)\n",
    "            qml.RZ(weights[jj,2*ii+1,2], wires=ii+1)\n",
    "\n",
    "            #qml.U3(*list(weights[jj,2*ii,:]), wires=0)\n",
    "            #qml.U3(*list(weights[jj,2*ii+1,:]), wires=ii+1)\n",
    "            qml.CNOT(wires=[ii+1,0])\n",
    "            \n",
    "        qml.RZ(weights[jj,2*(n_qubits-1),0], wires=0)\n",
    "        qml.RY(weights[jj,2*(n_qubits-1),1], wires=0)\n",
    "        qml.RZ(weights[jj,2*(n_qubits-1),2], wires=0)\n",
    "\n",
    "    return qml.expval(qml.PauliZ(0))\n",
    "\n",
    "weight_shapes = {\"weights\": (n_layers, 2*(n_qubits-1)+1, 3) }\n",
    "\n",
    "\n",
    "qlayer = qml.qnn.KerasLayer(qnode, weight_shapes, output_dim=1, name=\"quantumLayer\")\n",
    "inputs = tf.keras.Input(shape=(n_qubits,), name=\"inputs\")\n",
    "outputs = qlayer(inputs)\n",
    "model = tf.keras.Model(inputs=inputs, outputs=outputs, name=\"QNN\")\n",
    "\n",
    "model.predict(x_train_small[0,:])\n",
    "print(model.summary())"
   ]
  },
  {
   "cell_type": "markdown",
   "metadata": {},
   "source": [
    "Redefine the classification values to match the Hinge loss"
   ]
  },
  {
   "cell_type": "code",
   "execution_count": 10,
   "metadata": {},
   "outputs": [],
   "source": [
    "y_train_hinge = 2.0*y_train-1.0\n",
    "y_test_hinge = 2.0*y_test-1.0"
   ]
  },
  {
   "cell_type": "markdown",
   "metadata": {},
   "source": [
    "Define the hinge accuracy"
   ]
  },
  {
   "cell_type": "code",
   "execution_count": 11,
   "metadata": {},
   "outputs": [],
   "source": [
    "def hinge_accuracy(y_true, y_pred):\n",
    "    y_true = tf.squeeze(y_true) > 0.0\n",
    "    y_pred = tf.squeeze(y_pred) > 0.0\n",
    "    result = tf.cast(y_true == y_pred, tf.float32)\n",
    "\n",
    "    return tf.reduce_mean(result)"
   ]
  },
  {
   "cell_type": "markdown",
   "metadata": {},
   "source": [
    "## Compile and train the model\n",
    "\n",
    "Compile the model using the hinge loss and accuracy and the Adam optimiser"
   ]
  },
  {
   "cell_type": "code",
   "execution_count": 12,
   "metadata": {},
   "outputs": [],
   "source": [
    "model.compile(\n",
    "    loss=tf.keras.losses.Hinge(),\n",
    "    optimizer=tf.keras.optimizers.Adam(),\n",
    "    metrics=[hinge_accuracy])"
   ]
  },
  {
   "cell_type": "code",
   "execution_count": 13,
   "metadata": {},
   "outputs": [
    {
     "name": "stdout",
     "output_type": "stream",
     "text": [
      "Model: \"QNN\"\n",
      "_________________________________________________________________\n",
      " Layer (type)                Output Shape              Param #   \n",
      "=================================================================\n",
      " inputs (InputLayer)         [(None, 9)]               0         \n",
      "                                                                 \n",
      " quantumLayer (KerasLayer)   (None, 1)                 51        \n",
      "                                                                 \n",
      "=================================================================\n",
      "Total params: 51\n",
      "Trainable params: 51\n",
      "Non-trainable params: 0\n",
      "_________________________________________________________________\n",
      "None\n"
     ]
    }
   ],
   "source": [
    "print(model.summary())"
   ]
  },
  {
   "cell_type": "markdown",
   "metadata": {},
   "source": [
    "Train the model over 20 epochs"
   ]
  },
  {
   "cell_type": "code",
   "execution_count": 14,
   "metadata": {},
   "outputs": [
    {
     "name": "stdout",
     "output_type": "stream",
     "text": [
      "512\n",
      "Epoch 1/20\n",
      "16/16 [==============================] - 84s 5s/step - loss: 0.9725 - hinge_accuracy: 0.4980\n",
      "Epoch 2/20\n",
      "16/16 [==============================] - 81s 5s/step - loss: 0.9599 - hinge_accuracy: 0.5098\n",
      "Epoch 3/20\n",
      "16/16 [==============================] - 68s 4s/step - loss: 0.9485 - hinge_accuracy: 0.5293\n",
      "Epoch 4/20\n",
      "16/16 [==============================] - 66s 4s/step - loss: 0.9372 - hinge_accuracy: 0.5488\n",
      "Epoch 5/20\n",
      "16/16 [==============================] - 66s 4s/step - loss: 0.9254 - hinge_accuracy: 0.5566\n",
      "Epoch 6/20\n",
      "16/16 [==============================] - 76s 5s/step - loss: 0.9118 - hinge_accuracy: 0.5742\n",
      "Epoch 7/20\n",
      "16/16 [==============================] - 75s 5s/step - loss: 0.8966 - hinge_accuracy: 0.5840\n",
      "Epoch 8/20\n",
      "16/16 [==============================] - 71s 4s/step - loss: 0.8777 - hinge_accuracy: 0.5957\n",
      "Epoch 9/20\n",
      "16/16 [==============================] - 66s 4s/step - loss: 0.8562 - hinge_accuracy: 0.6230\n",
      "Epoch 10/20\n",
      "16/16 [==============================] - 65s 4s/step - loss: 0.8323 - hinge_accuracy: 0.6602\n",
      "Epoch 11/20\n",
      "16/16 [==============================] - 65s 4s/step - loss: 0.8057 - hinge_accuracy: 0.7051\n",
      "Epoch 12/20\n",
      "16/16 [==============================] - 72s 5s/step - loss: 0.7763 - hinge_accuracy: 0.7637\n",
      "Epoch 13/20\n",
      "16/16 [==============================] - 69s 4s/step - loss: 0.7444 - hinge_accuracy: 0.8145\n",
      "Epoch 14/20\n",
      "16/16 [==============================] - 67s 4s/step - loss: 0.7101 - hinge_accuracy: 0.8320\n",
      "Epoch 15/20\n",
      "16/16 [==============================] - 67s 4s/step - loss: 0.6750 - hinge_accuracy: 0.8418\n",
      "Epoch 16/20\n",
      "16/16 [==============================] - 66s 4s/step - loss: 0.6403 - hinge_accuracy: 0.8555\n",
      "Epoch 17/20\n",
      "16/16 [==============================] - 66s 4s/step - loss: 0.6073 - hinge_accuracy: 0.8613\n",
      "Epoch 18/20\n",
      "16/16 [==============================] - 65s 4s/step - loss: 0.5757 - hinge_accuracy: 0.8730\n",
      "Epoch 19/20\n",
      "16/16 [==============================] - 66s 4s/step - loss: 0.5478 - hinge_accuracy: 0.8750\n",
      "Epoch 20/20\n",
      "16/16 [==============================] - 65s 4s/step - loss: 0.5227 - hinge_accuracy: 0.8711\n",
      "62/62 [==============================] - 98s 2s/step - loss: 0.5687 - hinge_accuracy: 0.8110\n"
     ]
    }
   ],
   "source": [
    "EPOCHS = 20\n",
    "BATCH_SIZE = 32\n",
    "\n",
    "NUM_EXAMPLES = 512 #x_train_small.shape[0]\n",
    "print(NUM_EXAMPLES)\n",
    "\n",
    "x_train_sub = x_train_small[:NUM_EXAMPLES,:]\n",
    "y_train_hinge_sub = y_train_hinge[:NUM_EXAMPLES]\n",
    "\n",
    "x_test_sub = x_test_small[:,:]\n",
    "y_test_sub = y_test[:]\n",
    "\n",
    "qnn_history_1layer = model.fit(\n",
    "      x_train_sub, y_train_hinge_sub,\n",
    "      batch_size=BATCH_SIZE,\n",
    "      epochs=EPOCHS,\n",
    "      verbose=1)#,\n",
    "      #validation_data=(x_test_sub, y_test_sub))\n",
    "\n",
    "qnn_results_1layer = model.evaluate(x_test_sub, y_test_sub)"
   ]
  },
  {
   "cell_type": "markdown",
   "metadata": {},
   "source": [
    "                                                                                    Create and train a 2 layer version of the QNN"
   ]
  },
  {
   "cell_type": "code",
   "execution_count": 15,
   "metadata": {},
   "outputs": [
    {
     "name": "stdout",
     "output_type": "stream",
     "text": [
      "1/1 [==============================] - 0s 114ms/step\n",
      "Model: \"QNN\"\n",
      "_________________________________________________________________\n",
      " Layer (type)                Output Shape              Param #   \n",
      "=================================================================\n",
      " inputs (InputLayer)         [(None, 9)]               0         \n",
      "                                                                 \n",
      " quantumLayer (KerasLayer)   (None, 1)                 102       \n",
      "                                                                 \n",
      "=================================================================\n",
      "Total params: 102\n",
      "Trainable params: 102\n",
      "Non-trainable params: 0\n",
      "_________________________________________________________________\n",
      "None\n"
     ]
    }
   ],
   "source": [
    "n_qubits = 9\n",
    "n_layers = 2\n",
    "dev = qml.device(\"default.qubit\", wires=n_qubits)\n",
    "\n",
    "@qml.qnode(dev, diff_method=\"adjoint\")\n",
    "def qnode(inputs, weights):\n",
    "\n",
    "    for ii in range(n_qubits):\n",
    "        qml.RY(np.pi * inputs[ii], wires=ii)\n",
    "\n",
    "    for jj in range(n_layers):\n",
    "        for ii in range(n_qubits-1):\n",
    "            qml.RZ(weights[jj,2*ii,0], wires=0)\n",
    "            qml.RY(weights[jj,2*ii,1], wires=0)\n",
    "            qml.RZ(weights[jj,2*ii,2], wires=0)\n",
    "\n",
    "            qml.RZ(weights[jj,2*ii+1,0], wires=ii+1)\n",
    "            qml.RY(weights[jj,2*ii+1,1], wires=ii+1)\n",
    "            qml.RZ(weights[jj,2*ii+1,2], wires=ii+1)\n",
    "\n",
    "            #qml.U3(*list(weights[jj,2*ii,:]), wires=0)\n",
    "            #qml.U3(*list(weights[jj,2*ii+1,:]), wires=ii+1)\n",
    "            qml.CNOT(wires=[ii+1,0])\n",
    "            \n",
    "        qml.RZ(weights[jj,2*(n_qubits-1),0], wires=0)\n",
    "        qml.RY(weights[jj,2*(n_qubits-1),1], wires=0)\n",
    "        qml.RZ(weights[jj,2*(n_qubits-1),2], wires=0)\n",
    "\n",
    "    return qml.expval(qml.PauliZ(0))\n",
    "\n",
    "weight_shapes = {\"weights\": (n_layers, 2*(n_qubits-1)+1, 3) }\n",
    "\n",
    "\n",
    "qlayer = qml.qnn.KerasLayer(qnode, weight_shapes, output_dim=1, name=\"quantumLayer\")\n",
    "inputs = tf.keras.Input(shape=(n_qubits,), name=\"inputs\")\n",
    "outputs = qlayer(inputs)\n",
    "model2 = tf.keras.Model(inputs=inputs, outputs=outputs, name=\"QNN\")\n",
    "\n",
    "model2.predict(x_train_small[0,:])\n",
    "print(model2.summary())"
   ]
  },
  {
   "cell_type": "code",
   "execution_count": 16,
   "metadata": {},
   "outputs": [],
   "source": [
    "model2.compile(\n",
    "    loss=tf.keras.losses.Hinge(),\n",
    "    optimizer=tf.keras.optimizers.Adam(),\n",
    "    metrics=[hinge_accuracy])"
   ]
  },
  {
   "cell_type": "code",
   "execution_count": 17,
   "metadata": {},
   "outputs": [
    {
     "name": "stdout",
     "output_type": "stream",
     "text": [
      "512\n",
      "Epoch 1/20\n",
      "16/16 [==============================] - 125s 8s/step - loss: 0.8643 - hinge_accuracy: 0.6191\n",
      "Epoch 2/20\n",
      "16/16 [==============================] - 125s 8s/step - loss: 0.8197 - hinge_accuracy: 0.6445\n",
      "Epoch 3/20\n",
      "16/16 [==============================] - 131s 8s/step - loss: 0.7781 - hinge_accuracy: 0.6855\n",
      "Epoch 4/20\n",
      "16/16 [==============================] - 130s 8s/step - loss: 0.7378 - hinge_accuracy: 0.7383\n",
      "Epoch 5/20\n",
      "16/16 [==============================] - 127s 8s/step - loss: 0.6997 - hinge_accuracy: 0.7891\n",
      "Epoch 6/20\n",
      "16/16 [==============================] - 128s 8s/step - loss: 0.6625 - hinge_accuracy: 0.8359\n",
      "Epoch 7/20\n",
      "16/16 [==============================] - 126s 8s/step - loss: 0.6284 - hinge_accuracy: 0.8555\n",
      "Epoch 8/20\n",
      "16/16 [==============================] - 130s 8s/step - loss: 0.5986 - hinge_accuracy: 0.8613\n",
      "Epoch 9/20\n",
      "16/16 [==============================] - 140s 9s/step - loss: 0.5718 - hinge_accuracy: 0.8750\n",
      "Epoch 10/20\n",
      "16/16 [==============================] - 134s 8s/step - loss: 0.5481 - hinge_accuracy: 0.8770\n",
      "Epoch 11/20\n",
      "16/16 [==============================] - 127s 8s/step - loss: 0.5276 - hinge_accuracy: 0.8789\n",
      "Epoch 12/20\n",
      "16/16 [==============================] - 127s 8s/step - loss: 0.5101 - hinge_accuracy: 0.8750\n",
      "Epoch 13/20\n",
      "16/16 [==============================] - 127s 8s/step - loss: 0.4935 - hinge_accuracy: 0.8691\n",
      "Epoch 14/20\n",
      "16/16 [==============================] - 131s 8s/step - loss: 0.4796 - hinge_accuracy: 0.8711\n",
      "Epoch 15/20\n",
      "16/16 [==============================] - 140s 9s/step - loss: 0.4674 - hinge_accuracy: 0.8652\n",
      "Epoch 16/20\n",
      "16/16 [==============================] - 141s 9s/step - loss: 0.4562 - hinge_accuracy: 0.8672\n",
      "Epoch 17/20\n",
      "16/16 [==============================] - 134s 8s/step - loss: 0.4462 - hinge_accuracy: 0.8652\n",
      "Epoch 18/20\n",
      "16/16 [==============================] - 126s 8s/step - loss: 0.4371 - hinge_accuracy: 0.8633\n",
      "Epoch 19/20\n",
      "16/16 [==============================] - 125s 8s/step - loss: 0.4292 - hinge_accuracy: 0.8633\n",
      "Epoch 20/20\n",
      "16/16 [==============================] - 125s 8s/step - loss: 0.4217 - hinge_accuracy: 0.8633\n",
      "62/62 [==============================] - 195s 3s/step - loss: 0.5221 - hinge_accuracy: 0.7994\n"
     ]
    }
   ],
   "source": [
    "EPOCHS = 20\n",
    "BATCH_SIZE = 32\n",
    "\n",
    "NUM_EXAMPLES = 512 #x_train_small.shape[0]\n",
    "print(NUM_EXAMPLES)\n",
    "\n",
    "x_train_sub = x_train_small[:NUM_EXAMPLES,:]\n",
    "y_train_hinge_sub = y_train_hinge[:NUM_EXAMPLES]\n",
    "\n",
    "x_test_sub = x_test_small[:,:]\n",
    "y_test_sub = y_test[:]\n",
    "\n",
    "qnn_history_2layer = model2.fit(\n",
    "      x_train_sub, y_train_hinge_sub,\n",
    "      batch_size=BATCH_SIZE,\n",
    "      epochs=EPOCHS,\n",
    "      verbose=1)#,\n",
    "      #validation_data=(x_test_sub, y_test_sub))\n",
    "\n",
    "qnn_results_2layer = model2.evaluate(x_test_sub, y_test_sub)"
   ]
  },
  {
   "cell_type": "markdown",
   "metadata": {},
   "source": [
    "## Plot the results!"
   ]
  },
  {
   "cell_type": "code",
   "execution_count": 18,
   "metadata": {},
   "outputs": [
    {
     "data": {
      "image/png": "[encoded data removed]",
      "text/plain": [
       "<Figure size 640x480 with 1 Axes>"
      ]
     },
     "metadata": {},
     "output_type": "display_data"
    }
   ],
   "source": [
    "# plot the hinge accuracy for the qnn history for both 1 and 2 layer on the same axes\n",
    "plt.plot(np.arange(1,21), qnn_history_1layer.history[\"hinge_accuracy\"], label=\"1 layer QNN\")\n",
    "plt.plot(np.arange(1,21), qnn_history_2layer.history[\"hinge_accuracy\"], label=\"2 layer QNN\")\n",
    "plt.xlabel(\"Epoch\")\n",
    "plt.ylabel(\"Hinge Accuracy\")\n",
    "plt.legend()\n",
    "# modify x_ticks to also include 20\n",
    "plt.xticks(np.arange(0, 21, 2.5))\n",
    "# save as pdf with tight layout and no padding\n",
    "plt.savefig(\"qnn_hinge_accuracy.pdf\", bbox_inches=\"tight\", pad_inches=0)\n",
    "plt.show()"
   ]
  },
  {
   "cell_type": "code",
   "execution_count": 19,
   "metadata": {},
   "outputs": [
    {
     "data": {
      "image/png": "[encoded data removed]",
      "text/plain": [
       "<Figure size 640x480 with 1 Axes>"
      ]
     },
     "metadata": {},
     "output_type": "display_data"
    }
   ],
   "source": [
    "# plot the hinge accuracy for the loss for both 1 and 2 layer on the same axes\n",
    "plt.plot(np.arange(1,21), qnn_history_1layer.history[\"loss\"], label=\"1 layer QNN\")\n",
    "plt.plot(np.arange(1,21), qnn_history_2layer.history[\"loss\"], label=\"2 layer QNN\")\n",
    "plt.xlabel(\"Epoch\")\n",
    "plt.ylabel(\"Hinge Loss\")\n",
    "plt.legend()\n",
    "# modify x_ticks to also include 20\n",
    "plt.xticks(np.arange(0, 21, 2.5))\n",
    "# save as pdf with tight layout and no padding\n",
    "plt.savefig(\"qnn_hinge_loss.pdf\", bbox_inches=\"tight\", pad_inches=0)\n",
    "plt.show()"
   ]
  },
  {
   "cell_type": "code",
   "execution_count": null,
   "metadata": {},
   "outputs": [],
   "source": []
  }
 ],
 "metadata": {
  "kernelspec": {
   "display_name": "Python 3 (ipykernel)",
   "language": "python",
   "name": "python3"
  },
  "language_info": {
   "codemirror_mode": {
    "name": "ipython",
    "version": 3
   },
   "file_extension": ".py",
   "mimetype": "text/x-python",
   "name": "python",
   "nbconvert_exporter": "python",
   "pygments_lexer": "ipython3",
   "version": "3.9.12"
  },
  "vscode": {
   "interpreter": {
    "hash": "66a612e4ee5d9343e2fda4842cd4535190425ea2d31d59f514fa54a2d33459fb"
   }
  }
 },
 "nbformat": 4,
 "nbformat_minor": 2
}
